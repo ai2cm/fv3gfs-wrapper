{
 "cells": [
  {
   "cell_type": "markdown",
   "metadata": {},
   "source": [
    "# 1D: Saving the full state of the model to restart from later\n",
    "\n",
    "Sometimes we may not want to run a full-length simulation all at once.  For that reason it is useful to be able to checkpoint the state of the model at a given time and restart from that state later.  This notebook illustrates how we do that with the Python wrapper -- note one could also do it with the conventional fortran method of doing so."
   ]
  },
  {
   "cell_type": "markdown",
   "metadata": {},
   "source": [
    "## Recursively copy the contents of the example run directory to a clean folder in the docker container"
   ]
  },
  {
   "cell_type": "code",
   "execution_count": 1,
   "metadata": {},
   "outputs": [],
   "source": [
    "import os\n",
    "import shutil"
   ]
  },
  {
   "cell_type": "code",
   "execution_count": 2,
   "metadata": {},
   "outputs": [],
   "source": [
    "REFERENCE = \"reference_rundir\"\n",
    "RUNDIR = \"rundir_4\"\n",
    "\n",
    "if os.path.isdir(RUNDIR):\n",
    "    shutil.rmtree(RUNDIR)\n",
    "shutil.copytree(REFERENCE, RUNDIR);"
   ]
  },
  {
   "cell_type": "markdown",
   "metadata": {},
   "source": [
    "## Start the ipyparallel session for the notebook\n",
    "\n",
    "This involves running a couple shell commands (hence the `%%bash` cell magic command at the top of the following cell); note this means these commands are executed in the shell rather than the notebook."
   ]
  },
  {
   "cell_type": "code",
   "execution_count": 2,
   "metadata": {},
   "outputs": [],
   "source": [
    "%%bash\n",
    "# if you get a crash, add --debug to this command to put more info in logs\n",
    "# logs are in /root/.ipython/profile_mpi/log\n",
    "ipcluster start --profile=mpi -n 6 --daemonize\n",
    "sleep 10  # command is asynchronous, so let's wait to avoid an error in the next cell"
   ]
  },
  {
   "cell_type": "code",
   "execution_count": 3,
   "metadata": {},
   "outputs": [],
   "source": [
    "import ipyparallel as ipp\n",
    "rc = ipp.Client(profile='mpi', targets='all', block=True)\n",
    "dv = rc[:]\n",
    "dv.activate()\n",
    "dv.block = True"
   ]
  },
  {
   "cell_type": "code",
   "execution_count": 4,
   "metadata": {},
   "outputs": [
    {
     "name": "stdout",
     "output_type": "stream",
     "text": [
      "Running IPython Parallel on 6 MPI engines\n",
      "Commands in the following cells will be executed in parallel (disable with %autopx)\n",
      "%autopx enabled\n"
     ]
    }
   ],
   "source": [
    "print(\"Running IPython Parallel on {0} MPI engines\".format(len(rc.ids)))\n",
    "print(\"Commands in the following cells will be executed in parallel (disable with %autopx)\")\n",
    "%autopx"
   ]
  },
  {
   "cell_type": "markdown",
   "metadata": {},
   "source": [
    "## Use `mpi4py` gain access to the communicator for the notebook."
   ]
  },
  {
   "cell_type": "code",
   "execution_count": 5,
   "metadata": {},
   "outputs": [],
   "source": [
    "from mpi4py import MPI\n",
    "\n",
    "comm = MPI.COMM_WORLD\n",
    "mpi_size = comm.size\n",
    "mpi_rank = comm.rank"
   ]
  },
  {
   "cell_type": "markdown",
   "metadata": {},
   "source": [
    "## Enter the run directory\n",
    "\n",
    "Next we move into the run directory we created.  Note that we need to re-import `os` and re-define any variables we created before we started the cluster.  `fv3gfs.wrapper` requires that its routines are called from within a valid run directory."
   ]
  },
  {
   "cell_type": "code",
   "execution_count": 6,
   "metadata": {},
   "outputs": [],
   "source": [
    "import os\n",
    "RUNDIR = \"rundir_4\"\n",
    "os.chdir(RUNDIR)"
   ]
  },
  {
   "cell_type": "markdown",
   "metadata": {},
   "source": [
    "## Writing the state of the model to disk\n",
    "\n",
    "To checkpoint the state of the model it can be useful to write its state to disk.  We can do this using `fv3gfs.util.write_state`.  The names of the fields necessary for restarting the model can be found using `fv3gfs.wrapper.get_restart_names()`.  Let's take a look at what that returns."
   ]
  },
  {
   "cell_type": "code",
   "execution_count": 7,
   "metadata": {},
   "outputs": [],
   "source": [
    "import os\n",
    "import fv3gfs.util\n",
    "\n",
    "from fv3gfs import wrapper"
   ]
  },
  {
   "cell_type": "code",
   "execution_count": 8,
   "metadata": {},
   "outputs": [],
   "source": [
    "wrapper.initialize()"
   ]
  },
  {
   "cell_type": "code",
   "execution_count": 9,
   "metadata": {},
   "outputs": [
    {
     "name": "stdout",
     "output_type": "stream",
     "text": [
      "[stdout:0] ['time', 'x_wind', 'y_wind', 'accumulated_x_mass_flux', 'accumulated_y_mass_flux', 'accumulated_x_courant_number', 'accumulated_y_courant_number', 'eastward_wind', 'northward_wind', 'x_wind_on_c_grid', 'y_wind_on_c_grid', 'air_temperature', 'pressure_thickness_of_atmospheric_layer', 'vertical_wind', 'vertical_pressure_velocity', 'vertical_thickness_of_atmospheric_layer', 'surface_geopotential', 'atmosphere_hybrid_a_coordinate', 'atmosphere_hybrid_b_coordinate', 'eastward_wind_at_surface', 'northward_wind_at_surface', 'total_condensate_mixing_ratio', 'surface_pressure', 'interface_pressure', 'logarithm_of_interface_pressure', 'interface_pressure_raised_to_power_of_kappa', 'layer_mean_pressure_raised_to_power_of_kappa', 'dissipation_estimate_from_heat_source', 'specific_humidity', 'cloud_water_mixing_ratio', 'rain_mixing_ratio', 'cloud_ice_mixing_ratio', 'snow_mixing_ratio', 'graupel_mixing_ratio', 'ozone_mixing_ratio', 'cloud_amount', 'air_temperature_after_physics', 'northward_wind_after_physics', 'eastward_wind_after_physics', 'mean_cos_zenith_angle', 'longitude', 'latitude', 'area_of_grid_cell', 'total_sky_downward_shortwave_flux_at_surface', 'clear_sky_downward_shortwave_flux_at_surface', 'total_sky_upward_shortwave_flux_at_surface', 'clear_sky_upward_shortwave_flux_at_surface', 'total_sky_downward_longwave_flux_at_surface', 'clear_sky_downward_longwave_flux_at_surface', 'total_sky_upward_longwave_flux_at_surface', 'clear_sky_upward_longwave_flux_at_surface', 'total_sky_downward_shortwave_flux_at_top_of_atmosphere', 'total_sky_upward_shortwave_flux_at_top_of_atmosphere', 'clear_sky_upward_shortwave_flux_at_top_of_atmosphere', 'total_sky_upward_longwave_flux_at_top_of_atmosphere', 'clear_sky_upward_longwave_flux_at_top_of_atmosphere', 'sensible_heat_flux', 'latent_heat_flux', 'land_sea_mask', 'surface_temperature', 'ocean_surface_temperature', 'land_surface_temperature', 'water_equivalent_of_accumulated_snow_depth', 'deep_soil_temperature', 'surface_roughness', 'mean_visible_albedo_with_strong_cosz_dependency', 'mean_visible_albedo_with_weak_cosz_dependency', 'mean_near_infrared_albedo_with_strong_cosz_dependency', 'mean_near_infrared_albedo_with_weak_cosz_dependency', 'fractional_coverage_with_strong_cosz_dependency', 'fractional_coverage_with_weak_cosz_dependency', 'vegetation_fraction', 'canopy_water', 'fm_at_10m', 'air_temperature_at_2m', 'specific_humidity_at_2m', 'vegetation_type', 'soil_type', 'friction_velocity', 'fm_parameter', 'fh_parameter', 'sea_ice_thickness', 'ice_fraction_over_open_water', 'surface_temperature_over_ice_fraction', 'total_precipitation', 'snow_rain_flag', 'snow_depth_water_equivalent', 'minimum_fractional_coverage_of_green_vegetation', 'maximum_fractional_coverage_of_green_vegetation', 'surface_slope_type', 'maximum_snow_albedo_in_fraction', 'snow_cover_in_fraction', 'soil_temperature', 'total_soil_moisture', 'liquid_soil_moisture']\n"
     ]
    }
   ],
   "source": [
    "if comm.rank == 0: print(wrapper.get_restart_names())"
   ]
  },
  {
   "cell_type": "markdown",
   "metadata": {},
   "source": [
    "We'll run the model forward 10 timesteps and then checkpoint the state of all of these."
   ]
  },
  {
   "cell_type": "code",
   "execution_count": 10,
   "metadata": {},
   "outputs": [],
   "source": [
    "for i in range(10):\n",
    "    wrapper.step_dynamics()\n",
    "    wrapper.step_physics()"
   ]
  },
  {
   "cell_type": "markdown",
   "metadata": {},
   "source": [
    "To save the state after this, we can first get the state of all the variables necessary for restarting the model, and then write it out.  We need to provide `fv3gfs.util.write_state` the state dictionary as well as a path to the file.  Note each rank will write to its own file, so we should name the files uniquely per rank."
   ]
  },
  {
   "cell_type": "code",
   "execution_count": 11,
   "metadata": {},
   "outputs": [],
   "source": [
    "restart_state = wrapper.get_state(wrapper.get_restart_names())\n",
    "filename = os.path.join(os.getcwd(), \"RESTART\", f\"ten-step-run.rank{comm.rank}.nc\")\n",
    "fv3gfs.util.write_state(restart_state, filename)"
   ]
  },
  {
   "cell_type": "markdown",
   "metadata": {},
   "source": [
    "We can see that we wrote some \"restart\" files in the `RESTART` directory."
   ]
  },
  {
   "cell_type": "code",
   "execution_count": 12,
   "metadata": {},
   "outputs": [
    {
     "name": "stdout",
     "output_type": "stream",
     "text": [
      "[stdout:0] ['ten-step-run.rank0.nc', 'ten-step-run.rank1.nc', 'ten-step-run.rank2.nc', 'ten-step-run.rank3.nc', 'ten-step-run.rank4.nc', 'ten-step-run.rank5.nc']\n"
     ]
    }
   ],
   "source": [
    "if comm.rank == 0: print(os.listdir(\"RESTART/\"))"
   ]
  },
  {
   "cell_type": "markdown",
   "metadata": {},
   "source": [
    "We'll shut the model down now to illustrate how we can restart the model from that written state."
   ]
  },
  {
   "cell_type": "code",
   "execution_count": 13,
   "metadata": {},
   "outputs": [],
   "source": [
    "wrapper.cleanup()"
   ]
  },
  {
   "cell_type": "markdown",
   "metadata": {},
   "source": [
    "## Restart the model from where we left off\n",
    "\n",
    "To restart the model from where we left off, we can use `fv3gfs.util.read_state` to load in the checkpointed state from above.  We can then use `fv3gfs.wrapper.set_state` to force the state of the model to match that of restart state.  From there, we can run the model forward from the same place the previous simulation ended."
   ]
  },
  {
   "cell_type": "code",
   "execution_count": 1,
   "metadata": {},
   "outputs": [],
   "source": [
    "%%bash\n",
    "# if you get a crash, add --debug to this command to put more info in logs\n",
    "# logs are in /root/.ipython/profile_mpi/log\n",
    "ipcluster start --profile=mpi -n 6 --daemonize\n",
    "sleep 10  # command is asynchronous, so let's wait to avoid an error in the next cell"
   ]
  },
  {
   "cell_type": "code",
   "execution_count": 2,
   "metadata": {},
   "outputs": [],
   "source": [
    "import ipyparallel as ipp\n",
    "rc = ipp.Client(profile='mpi', targets='all', block=True)\n",
    "dv = rc[:]\n",
    "dv.activate()\n",
    "dv.block = True"
   ]
  },
  {
   "cell_type": "code",
   "execution_count": 3,
   "metadata": {},
   "outputs": [
    {
     "name": "stdout",
     "output_type": "stream",
     "text": [
      "Running IPython Parallel on 6 MPI engines\n",
      "Commands in the following cells will be executed in parallel (disable with %autopx)\n",
      "%autopx enabled\n"
     ]
    }
   ],
   "source": [
    "print(\"Running IPython Parallel on {0} MPI engines\".format(len(rc.ids)))\n",
    "print(\"Commands in the following cells will be executed in parallel (disable with %autopx)\")\n",
    "%autopx"
   ]
  },
  {
   "cell_type": "code",
   "execution_count": 4,
   "metadata": {},
   "outputs": [],
   "source": [
    "from mpi4py import MPI\n",
    "\n",
    "comm = MPI.COMM_WORLD"
   ]
  },
  {
   "cell_type": "code",
   "execution_count": 5,
   "metadata": {},
   "outputs": [],
   "source": [
    "import os\n",
    "RUNDIR = \"rundir_4\"\n",
    "os.chdir(RUNDIR)"
   ]
  },
  {
   "cell_type": "code",
   "execution_count": 6,
   "metadata": {},
   "outputs": [],
   "source": [
    "import os\n",
    "import fv3gfs.util\n",
    "\n",
    "from fv3gfs import wrapper"
   ]
  },
  {
   "cell_type": "code",
   "execution_count": 7,
   "metadata": {},
   "outputs": [],
   "source": [
    "wrapper.initialize()"
   ]
  },
  {
   "cell_type": "code",
   "execution_count": 8,
   "metadata": {},
   "outputs": [],
   "source": [
    "filename = os.path.join(os.getcwd(), \"RESTART\", f\"ten-step-run.rank{comm.rank}.nc\")\n",
    "state = fv3gfs.util.read_state(filename)\n",
    "wrapper.set_state(state)"
   ]
  },
  {
   "cell_type": "markdown",
   "metadata": {},
   "source": [
    "We can get the time of the model to show that its state reflects that it has been run forward since 2016-08-01 00:00:00"
   ]
  },
  {
   "cell_type": "code",
   "execution_count": 9,
   "metadata": {},
   "outputs": [
    {
     "data": {
      "text/plain": [
       "\u001b[0;31mOut[0:6]: \u001b[0m{'time': cftime.DatetimeJulian(2016, 8, 1, 2, 30, 0, 0)}"
      ]
     },
     "metadata": {
      "after": [],
      "completed": "2021-01-17T18:54:36.356284",
      "data": {},
      "engine_id": 0,
      "engine_uuid": "ad4cbb21-4d5e150a0941c1415ee3ef35",
      "error": null,
      "execute_input": "wrapper.get_state([\"time\"])",
      "execute_result": {
       "data": {
        "text/plain": "{'time': cftime.DatetimeJulian(2016, 8, 1, 2, 30, 0, 0)}"
       },
       "execution_count": 6,
       "metadata": {}
      },
      "follow": [],
      "msg_id": "ed155d26-638bfb2c6179ae82bf473dc8_31",
      "outputs": [],
      "received": "2021-01-17T18:54:36.358229",
      "started": "2021-01-17T18:54:36.325523",
      "status": "ok",
      "stderr": "",
      "stdout": "",
      "submitted": "2021-01-17T18:54:36.314904"
     },
     "output_type": "display_data"
    },
    {
     "data": {
      "text/plain": [
       "\u001b[0;31mOut[1:6]: \u001b[0m{'time': cftime.DatetimeJulian(2016, 8, 1, 2, 30, 0, 0)}"
      ]
     },
     "metadata": {
      "after": [],
      "completed": "2021-01-17T18:54:36.350159",
      "data": {},
      "engine_id": 1,
      "engine_uuid": "41c5878b-bd64e9c06886158405ae35bf",
      "error": null,
      "execute_input": "wrapper.get_state([\"time\"])",
      "execute_result": {
       "data": {
        "text/plain": "{'time': cftime.DatetimeJulian(2016, 8, 1, 2, 30, 0, 0)}"
       },
       "execution_count": 6,
       "metadata": {}
      },
      "follow": [],
      "msg_id": "ed155d26-638bfb2c6179ae82bf473dc8_32",
      "outputs": [],
      "received": "2021-01-17T18:54:36.352794",
      "started": "2021-01-17T18:54:36.326512",
      "status": "ok",
      "stderr": "",
      "stdout": "",
      "submitted": "2021-01-17T18:54:36.315092"
     },
     "output_type": "display_data"
    },
    {
     "data": {
      "text/plain": [
       "\u001b[0;31mOut[2:6]: \u001b[0m{'time': cftime.DatetimeJulian(2016, 8, 1, 2, 30, 0, 0)}"
      ]
     },
     "metadata": {
      "after": [],
      "completed": "2021-01-17T18:54:36.342857",
      "data": {},
      "engine_id": 2,
      "engine_uuid": "4a4dfc87-da15d0022231af9ce91a93a9",
      "error": null,
      "execute_input": "wrapper.get_state([\"time\"])",
      "execute_result": {
       "data": {
        "text/plain": "{'time': cftime.DatetimeJulian(2016, 8, 1, 2, 30, 0, 0)}"
       },
       "execution_count": 6,
       "metadata": {}
      },
      "follow": [],
      "msg_id": "ed155d26-638bfb2c6179ae82bf473dc8_33",
      "outputs": [],
      "received": "2021-01-17T18:54:36.347806",
      "started": "2021-01-17T18:54:36.321209",
      "status": "ok",
      "stderr": "",
      "stdout": "",
      "submitted": "2021-01-17T18:54:36.315243"
     },
     "output_type": "display_data"
    },
    {
     "data": {
      "text/plain": [
       "\u001b[0;31mOut[3:6]: \u001b[0m{'time': cftime.DatetimeJulian(2016, 8, 1, 2, 30, 0, 0)}"
      ]
     },
     "metadata": {
      "after": [],
      "completed": "2021-01-17T18:54:36.349851",
      "data": {},
      "engine_id": 3,
      "engine_uuid": "0daa39c1-9b8de32c8feb158fdd82762a",
      "error": null,
      "execute_input": "wrapper.get_state([\"time\"])",
      "execute_result": {
       "data": {
        "text/plain": "{'time': cftime.DatetimeJulian(2016, 8, 1, 2, 30, 0, 0)}"
       },
       "execution_count": 6,
       "metadata": {}
      },
      "follow": [],
      "msg_id": "ed155d26-638bfb2c6179ae82bf473dc8_34",
      "outputs": [],
      "received": "2021-01-17T18:54:36.351999",
      "started": "2021-01-17T18:54:36.329086",
      "status": "ok",
      "stderr": "",
      "stdout": "",
      "submitted": "2021-01-17T18:54:36.316799"
     },
     "output_type": "display_data"
    },
    {
     "data": {
      "text/plain": [
       "\u001b[0;31mOut[4:6]: \u001b[0m{'time': cftime.DatetimeJulian(2016, 8, 1, 2, 30, 0, 0)}"
      ]
     },
     "metadata": {
      "after": [],
      "completed": "2021-01-17T18:54:36.343428",
      "data": {},
      "engine_id": 4,
      "engine_uuid": "5537fdda-94b5d77aac3efc3f8a965a7e",
      "error": null,
      "execute_input": "wrapper.get_state([\"time\"])",
      "execute_result": {
       "data": {
        "text/plain": "{'time': cftime.DatetimeJulian(2016, 8, 1, 2, 30, 0, 0)}"
       },
       "execution_count": 6,
       "metadata": {}
      },
      "follow": [],
      "msg_id": "ed155d26-638bfb2c6179ae82bf473dc8_35",
      "outputs": [],
      "received": "2021-01-17T18:54:36.346747",
      "started": "2021-01-17T18:54:36.320980",
      "status": "ok",
      "stderr": "",
      "stdout": "",
      "submitted": "2021-01-17T18:54:36.316927"
     },
     "output_type": "display_data"
    },
    {
     "data": {
      "text/plain": [
       "\u001b[0;31mOut[5:6]: \u001b[0m{'time': cftime.DatetimeJulian(2016, 8, 1, 2, 30, 0, 0)}"
      ]
     },
     "metadata": {
      "after": [],
      "completed": "2021-01-17T18:54:36.357612",
      "data": {},
      "engine_id": 5,
      "engine_uuid": "9e5c70c6-6cc33ab5a0cd5a36fdb7189a",
      "error": null,
      "execute_input": "wrapper.get_state([\"time\"])",
      "execute_result": {
       "data": {
        "text/plain": "{'time': cftime.DatetimeJulian(2016, 8, 1, 2, 30, 0, 0)}"
       },
       "execution_count": 6,
       "metadata": {}
      },
      "follow": [],
      "msg_id": "ed155d26-638bfb2c6179ae82bf473dc8_36",
      "outputs": [],
      "received": "2021-01-17T18:54:36.359514",
      "started": "2021-01-17T18:54:36.334432",
      "status": "ok",
      "stderr": "",
      "stdout": "",
      "submitted": "2021-01-17T18:54:36.317048"
     },
     "output_type": "display_data"
    }
   ],
   "source": [
    "wrapper.get_state([\"time\"])"
   ]
  },
  {
   "cell_type": "markdown",
   "metadata": {},
   "source": [
    "## Exercise:\n",
    "\n",
    "Starting from 2016-08-01 00:00:00 (the default start date for our example run directory) run the model 10 timestep in two segments.  Run one segment for five timesteps and the other segment another five.  Write out the state of the model after each of these segments.  Is the state of the model after the tenth timestep in the segmented run identical to that in the unsegmented run?"
   ]
  },
  {
   "cell_type": "code",
   "execution_count": 1,
   "metadata": {},
   "outputs": [],
   "source": [
    "%%bash\n",
    "# if you get a crash, add --debug to this command to put more info in logs\n",
    "# logs are in /root/.ipython/profile_mpi/log\n",
    "ipcluster start --profile=mpi -n 6 --daemonize\n",
    "sleep 10  # command is asynchronous, so let's wait to avoid an error in the next cell"
   ]
  },
  {
   "cell_type": "code",
   "execution_count": 2,
   "metadata": {},
   "outputs": [],
   "source": [
    "import ipyparallel as ipp\n",
    "rc = ipp.Client(profile='mpi', targets='all', block=True)\n",
    "dv = rc[:]\n",
    "dv.activate()\n",
    "dv.block = True"
   ]
  },
  {
   "cell_type": "code",
   "execution_count": 3,
   "metadata": {},
   "outputs": [
    {
     "name": "stdout",
     "output_type": "stream",
     "text": [
      "Running IPython Parallel on 6 MPI engines\n",
      "Commands in the following cells will be executed in parallel (disable with %autopx)\n",
      "%autopx enabled\n"
     ]
    }
   ],
   "source": [
    "print(\"Running IPython Parallel on {0} MPI engines\".format(len(rc.ids)))\n",
    "print(\"Commands in the following cells will be executed in parallel (disable with %autopx)\")\n",
    "%autopx"
   ]
  },
  {
   "cell_type": "code",
   "execution_count": 4,
   "metadata": {},
   "outputs": [],
   "source": [
    "from mpi4py import MPI\n",
    "\n",
    "comm = MPI.COMM_WORLD"
   ]
  },
  {
   "cell_type": "code",
   "execution_count": 5,
   "metadata": {},
   "outputs": [],
   "source": [
    "import os\n",
    "RUNDIR = \"rundir_4\"\n",
    "os.chdir(RUNDIR)"
   ]
  },
  {
   "cell_type": "code",
   "execution_count": 6,
   "metadata": {},
   "outputs": [],
   "source": [
    "import os\n",
    "import fv3gfs.util\n",
    "\n",
    "from fv3gfs import wrapper"
   ]
  },
  {
   "cell_type": "code",
   "execution_count": 7,
   "metadata": {},
   "outputs": [],
   "source": [
    "wrapper.initialize()"
   ]
  },
  {
   "cell_type": "code",
   "execution_count": 8,
   "metadata": {},
   "outputs": [],
   "source": [
    "for i in range(5):\n",
    "    wrapper.step_dynamics()\n",
    "    wrapper.step_physics()"
   ]
  },
  {
   "cell_type": "code",
   "execution_count": 9,
   "metadata": {},
   "outputs": [],
   "source": [
    "restart_state = wrapper.get_state(wrapper.get_restart_names())\n",
    "filename = os.path.join(os.getcwd(), \"RESTART\", f\"ten-step-run-segment-1.rank{comm.rank}.nc\")\n",
    "fv3gfs.util.write_state(restart_state, filename)"
   ]
  },
  {
   "cell_type": "code",
   "execution_count": 1,
   "metadata": {},
   "outputs": [],
   "source": [
    "%%bash\n",
    "# if you get a crash, add --debug to this command to put more info in logs\n",
    "# logs are in /root/.ipython/profile_mpi/log\n",
    "ipcluster start --profile=mpi -n 6 --daemonize\n",
    "sleep 10  # command is asynchronous, so let's wait to avoid an error in the next cell"
   ]
  },
  {
   "cell_type": "code",
   "execution_count": 2,
   "metadata": {},
   "outputs": [],
   "source": [
    "import ipyparallel as ipp\n",
    "rc = ipp.Client(profile='mpi', targets='all', block=True)\n",
    "dv = rc[:]\n",
    "dv.activate()\n",
    "dv.block = True"
   ]
  },
  {
   "cell_type": "code",
   "execution_count": 3,
   "metadata": {},
   "outputs": [
    {
     "name": "stdout",
     "output_type": "stream",
     "text": [
      "Running IPython Parallel on 6 MPI engines\n",
      "Commands in the following cells will be executed in parallel (disable with %autopx)\n",
      "%autopx enabled\n"
     ]
    }
   ],
   "source": [
    "print(\"Running IPython Parallel on {0} MPI engines\".format(len(rc.ids)))\n",
    "print(\"Commands in the following cells will be executed in parallel (disable with %autopx)\")\n",
    "%autopx"
   ]
  },
  {
   "cell_type": "code",
   "execution_count": 4,
   "metadata": {},
   "outputs": [],
   "source": [
    "from mpi4py import MPI\n",
    "\n",
    "comm = MPI.COMM_WORLD"
   ]
  },
  {
   "cell_type": "code",
   "execution_count": 5,
   "metadata": {},
   "outputs": [],
   "source": [
    "import os\n",
    "RUNDIR = \"rundir_4\"\n",
    "os.chdir(RUNDIR)"
   ]
  },
  {
   "cell_type": "code",
   "execution_count": 6,
   "metadata": {},
   "outputs": [],
   "source": [
    "import os\n",
    "import fv3gfs.util\n",
    "\n",
    "from fv3gfs import wrapper"
   ]
  },
  {
   "cell_type": "code",
   "execution_count": 7,
   "metadata": {},
   "outputs": [],
   "source": [
    "wrapper.initialize()\n",
    "wrapper.step_dynamics()\n",
    "wrapper.step_physics()"
   ]
  },
  {
   "cell_type": "code",
   "execution_count": 9,
   "metadata": {},
   "outputs": [],
   "source": [
    "filename = os.path.join(os.getcwd(), \"RESTART\", f\"ten-step-run-segment-1.rank{comm.rank}.nc\")\n",
    "state = fv3gfs.util.read_state(filename)\n",
    "wrapper.set_state(state)"
   ]
  },
  {
   "cell_type": "code",
   "execution_count": 12,
   "metadata": {},
   "outputs": [],
   "source": [
    "for i in range(5):\n",
    "    wrapper.step_dynamics()\n",
    "    wrapper.step_physics()"
   ]
  },
  {
   "cell_type": "code",
   "execution_count": 13,
   "metadata": {},
   "outputs": [],
   "source": [
    "restart_state = wrapper.get_state(wrapper.get_restart_names())\n",
    "filename = os.path.join(os.getcwd(), \"RESTART\", f\"ten-step-run-segment-2.rank{comm.rank}.nc\")\n",
    "fv3gfs.util.write_state(restart_state, filename)"
   ]
  },
  {
   "cell_type": "code",
   "execution_count": 15,
   "metadata": {},
   "outputs": [],
   "source": [
    "state_unsegmented = fv3gfs.util.read_state(os.path.join(os.getcwd(), \"RESTART\", f\"ten-step-run.rank{comm.rank}.nc\"))\n",
    "state_segmented = fv3gfs.util.read_state(filename)"
   ]
  },
  {
   "cell_type": "code",
   "execution_count": 23,
   "metadata": {},
   "outputs": [
    {
     "data": {
      "text/plain": [
       "\u001b[0;31mOut[0:20]: \u001b[0m0.0"
      ]
     },
     "metadata": {
      "after": [],
      "completed": "2021-01-17T19:29:42.123506",
      "data": {},
      "engine_id": 0,
      "engine_uuid": "53e0ab99-9a6fd331c3624a1a166b1275",
      "error": null,
      "execute_input": "(state_unsegmented[\"air_temperature\"].view[:] - state_segmented[\"air_temperature\"].view[:]).sum()",
      "execute_result": {
       "data": {
        "text/plain": "0.0"
       },
       "execution_count": 20,
       "metadata": {}
      },
      "follow": [],
      "msg_id": "4e59e2d8-af0e900e19c75eafe1895811_115",
      "outputs": [],
      "received": "2021-01-17T19:29:42.126667",
      "started": "2021-01-17T19:29:42.116810",
      "status": "ok",
      "stderr": "",
      "stdout": "",
      "submitted": "2021-01-17T19:29:42.109396"
     },
     "output_type": "display_data"
    },
    {
     "data": {
      "text/plain": [
       "\u001b[0;31mOut[1:20]: \u001b[0m0.0"
      ]
     },
     "metadata": {
      "after": [],
      "completed": "2021-01-17T19:29:42.122654",
      "data": {},
      "engine_id": 1,
      "engine_uuid": "cb9da425-f044e047cdae83e284205049",
      "error": null,
      "execute_input": "(state_unsegmented[\"air_temperature\"].view[:] - state_segmented[\"air_temperature\"].view[:]).sum()",
      "execute_result": {
       "data": {
        "text/plain": "0.0"
       },
       "execution_count": 20,
       "metadata": {}
      },
      "follow": [],
      "msg_id": "4e59e2d8-af0e900e19c75eafe1895811_116",
      "outputs": [],
      "received": "2021-01-17T19:29:42.127444",
      "started": "2021-01-17T19:29:42.113787",
      "status": "ok",
      "stderr": "",
      "stdout": "",
      "submitted": "2021-01-17T19:29:42.109567"
     },
     "output_type": "display_data"
    },
    {
     "data": {
      "text/plain": [
       "\u001b[0;31mOut[2:20]: \u001b[0m0.0"
      ]
     },
     "metadata": {
      "after": [],
      "completed": "2021-01-17T19:29:42.120905",
      "data": {},
      "engine_id": 2,
      "engine_uuid": "565251ae-c68564435fba4521dc5afb22",
      "error": null,
      "execute_input": "(state_unsegmented[\"air_temperature\"].view[:] - state_segmented[\"air_temperature\"].view[:]).sum()",
      "execute_result": {
       "data": {
        "text/plain": "0.0"
       },
       "execution_count": 20,
       "metadata": {}
      },
      "follow": [],
      "msg_id": "4e59e2d8-af0e900e19c75eafe1895811_117",
      "outputs": [],
      "received": "2021-01-17T19:29:42.124857",
      "started": "2021-01-17T19:29:42.113405",
      "status": "ok",
      "stderr": "",
      "stdout": "",
      "submitted": "2021-01-17T19:29:42.109682"
     },
     "output_type": "display_data"
    },
    {
     "data": {
      "text/plain": [
       "\u001b[0;31mOut[3:20]: \u001b[0m0.0"
      ]
     },
     "metadata": {
      "after": [],
      "completed": "2021-01-17T19:29:42.117109",
      "data": {},
      "engine_id": 3,
      "engine_uuid": "9ca11e19-dc38d6cf8c10ff39623fbe0e",
      "error": null,
      "execute_input": "(state_unsegmented[\"air_temperature\"].view[:] - state_segmented[\"air_temperature\"].view[:]).sum()",
      "execute_result": {
       "data": {
        "text/plain": "0.0"
       },
       "execution_count": 20,
       "metadata": {}
      },
      "follow": [],
      "msg_id": "4e59e2d8-af0e900e19c75eafe1895811_118",
      "outputs": [],
      "received": "2021-01-17T19:29:42.119895",
      "started": "2021-01-17T19:29:42.113488",
      "status": "ok",
      "stderr": "",
      "stdout": "",
      "submitted": "2021-01-17T19:29:42.109844"
     },
     "output_type": "display_data"
    },
    {
     "data": {
      "text/plain": [
       "\u001b[0;31mOut[4:20]: \u001b[0m0.0"
      ]
     },
     "metadata": {
      "after": [],
      "completed": "2021-01-17T19:29:42.120816",
      "data": {},
      "engine_id": 4,
      "engine_uuid": "cb9892b3-c3d98d954ca922e2f671bda8",
      "error": null,
      "execute_input": "(state_unsegmented[\"air_temperature\"].view[:] - state_segmented[\"air_temperature\"].view[:]).sum()",
      "execute_result": {
       "data": {
        "text/plain": "0.0"
       },
       "execution_count": 20,
       "metadata": {}
      },
      "follow": [],
      "msg_id": "4e59e2d8-af0e900e19c75eafe1895811_119",
      "outputs": [],
      "received": "2021-01-17T19:29:42.123547",
      "started": "2021-01-17T19:29:42.116685",
      "status": "ok",
      "stderr": "",
      "stdout": "",
      "submitted": "2021-01-17T19:29:42.109948"
     },
     "output_type": "display_data"
    },
    {
     "data": {
      "text/plain": [
       "\u001b[0;31mOut[5:20]: \u001b[0m0.0"
      ]
     },
     "metadata": {
      "after": [],
      "completed": "2021-01-17T19:29:42.121957",
      "data": {},
      "engine_id": 5,
      "engine_uuid": "af836cf5-f7e30128f249b9b2224a60c5",
      "error": null,
      "execute_input": "(state_unsegmented[\"air_temperature\"].view[:] - state_segmented[\"air_temperature\"].view[:]).sum()",
      "execute_result": {
       "data": {
        "text/plain": "0.0"
       },
       "execution_count": 20,
       "metadata": {}
      },
      "follow": [],
      "msg_id": "4e59e2d8-af0e900e19c75eafe1895811_120",
      "outputs": [],
      "received": "2021-01-17T19:29:42.125755",
      "started": "2021-01-17T19:29:42.115752",
      "status": "ok",
      "stderr": "",
      "stdout": "",
      "submitted": "2021-01-17T19:29:42.110051"
     },
     "output_type": "display_data"
    }
   ],
   "source": [
    "(state_unsegmented[\"air_temperature\"].view[:] - state_segmented[\"air_temperature\"].view[:]).sum()"
   ]
  },
  {
   "cell_type": "code",
   "execution_count": null,
   "metadata": {},
   "outputs": [],
   "source": []
  }
 ],
 "metadata": {
  "kernelspec": {
   "display_name": "Python 3",
   "language": "python",
   "name": "python3"
  },
  "language_info": {
   "codemirror_mode": {
    "name": "ipython",
    "version": 3
   },
   "file_extension": ".py",
   "mimetype": "text/x-python",
   "name": "python",
   "nbconvert_exporter": "python",
   "pygments_lexer": "ipython3",
   "version": "3.7.5"
  }
 },
 "nbformat": 4,
 "nbformat_minor": 4
}
